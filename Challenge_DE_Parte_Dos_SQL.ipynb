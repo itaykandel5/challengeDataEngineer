{
  "nbformat": 4,
  "nbformat_minor": 0,
  "metadata": {
    "colab": {
      "provenance": [],
      "collapsed_sections": [
        "-9v-6sTjZIsR",
        "M4hDkQ0E6m3J",
        "KkDSyBRAL0eq",
        "mClc00PMtJXy",
        "igwMIVIQtI06",
        "KNfWEErWLkFN"
      ]
    },
    "kernelspec": {
      "name": "python3",
      "display_name": "Python 3"
    },
    "language_info": {
      "name": "python"
    }
  },
  "cells": [
    {
      "cell_type": "markdown",
      "source": [
        "Objetivo\n",
        "\n",
        "Realizar un análisis sobre la oferta/vidriera de las opciones de productos que responden a distintas búsquedas en el sitio Mercadolibre.com.ar\n"
      ],
      "metadata": {
        "id": "mvqbJNeGzTlx"
      }
    },
    {
      "cell_type": "markdown",
      "source": [
        "##**Instalamos e importamos Libreria para trabajar con Apis**"
      ],
      "metadata": {
        "id": "-9v-6sTjZIsR"
      }
    },
    {
      "cell_type": "code",
      "execution_count": 69,
      "metadata": {
        "colab": {
          "base_uri": "https://localhost:8080/"
        },
        "id": "Fb81ppm3SYCN",
        "outputId": "f9dd13f9-ff9d-455b-d0b3-5fd3f363c470",
        "collapsed": true
      },
      "outputs": [
        {
          "output_type": "stream",
          "name": "stdout",
          "text": [
            "Requirement already satisfied: requests in /usr/local/lib/python3.11/dist-packages (2.32.3)\n",
            "Requirement already satisfied: charset-normalizer<4,>=2 in /usr/local/lib/python3.11/dist-packages (from requests) (3.4.1)\n",
            "Requirement already satisfied: idna<4,>=2.5 in /usr/local/lib/python3.11/dist-packages (from requests) (3.10)\n",
            "Requirement already satisfied: urllib3<3,>=1.21.1 in /usr/local/lib/python3.11/dist-packages (from requests) (2.3.0)\n",
            "Requirement already satisfied: certifi>=2017.4.17 in /usr/local/lib/python3.11/dist-packages (from requests) (2024.12.14)\n"
          ]
        }
      ],
      "source": [
        "%pip install requests"
      ]
    },
    {
      "cell_type": "code",
      "source": [
        "import requests\n",
        "import pandas as pd\n",
        "import time\n"
      ],
      "metadata": {
        "id": "MktOcr73Sl4n"
      },
      "execution_count": 70,
      "outputs": []
    },
    {
      "cell_type": "markdown",
      "source": [
        "##**Funciones para obtener informacion de las APIs y crear tablas**"
      ],
      "metadata": {
        "id": "M4hDkQ0E6m3J"
      }
    },
    {
      "cell_type": "code",
      "source": [
        "def get_data(base_url, endpoint, params=None, headers=None, expected_field=None):\n",
        "    \"\"\"\n",
        "    Realiza una solicitud GET a una API para obtener datos.\n",
        "\n",
        "    Parámetros:\n",
        "    - base_url (str): La URL base de la API.\n",
        "    - endpoint (str): El endpoint específico de la API.\n",
        "    - params (dict, opcional): Parámetros de consulta.\n",
        "    - headers (dict, opcional): Encabezados de la solicitud.\n",
        "    - expected_field (str, opcional): Campo del JSON donde se espera la data principal (ej: 'results').\n",
        "\n",
        "    Retorna:\n",
        "    - dict o list: Datos obtenidos de la API en formato JSON.\n",
        "    \"\"\"\n",
        "\n",
        "    try:\n",
        "        endpoint_url = f\"{base_url}/{endpoint}\"\n",
        "        response = requests.get(endpoint_url, params=params, headers=headers)\n",
        "        response.raise_for_status()  # Lanza error si la respuesta HTTP es incorrecta.\n",
        "\n",
        "        # Convierte la respuesta a JSON\n",
        "        data = response.json()\n",
        "\n",
        "        # Extrae campo del JSON, extraerlo\n",
        "        if expected_field and expected_field in data:\n",
        "            return data[expected_field]\n",
        "\n",
        "        return data  # Retornar el JSON completo si no se especificó un campo esperado.\n",
        "\n",
        "    except requests.exceptions.RequestException as e:\n",
        "        print(f\"La petición ha fallado. Código de error : {e}\")\n",
        "        return None\n",
        "\n",
        "def build_table(json_data):\n",
        "    \"\"\"\n",
        "    Construye un DataFrame de pandas a partir de datos en formato JSON.\n",
        "\n",
        "    Parámetros:\n",
        "    json_data (dict): Los datos en formato JSON obtenidos de una API.\n",
        "\n",
        "    Retorna:\n",
        "    DataFrame: Un DataFrame de pandas que contiene los datos.\n",
        "    \"\"\"\n",
        "    try:\n",
        "        df = pd.json_normalize(json_data)\n",
        "        return df\n",
        "    except:\n",
        "        print(\"Los datos no están en el formato esperado\")\n",
        "        return None\n"
      ],
      "metadata": {
        "id": "4B738riqp9L0"
      },
      "execution_count": 71,
      "outputs": []
    },
    {
      "cell_type": "markdown",
      "source": [
        "## **Extraccion y almacenamiento de la informacion solicitada**"
      ],
      "metadata": {
        "id": "UBaE8sZ_-8pF"
      }
    },
    {
      "cell_type": "markdown",
      "source": [
        "Uso la api proporcionada con el modo de ejemplo para setear los parametros que me interese modificar.\n",
        "La inteción es obtener informacion relevante sobre tres items de la misma categoria para poder obtener insights relevantes.\n",
        "Se deberá modificar el \"param_item\" segun el producto que queramos obtener la informacion."
      ],
      "metadata": {
        "id": "i80o2o2CADzt"
      }
    },
    {
      "cell_type": "markdown",
      "source": [
        "###Verifico informacion del ejemplo"
      ],
      "metadata": {
        "id": "KkDSyBRAL0eq"
      }
    },
    {
      "cell_type": "code",
      "source": [
        "#Armo la url del endpoint del BCRA **\"https://api.mercadolibre.com/sites/{site}/search?q={item}&limit=50\"**\n",
        "\n",
        "base_url = \"https://api.mercadolibre.com\"\n",
        "\n",
        "param_item = \"Apple TV\" # parametro para editar el producto que quiero analizar probamos con \"Amazon Fire TV\", \"Apple TV\", \"chromecast\"\n",
        "\n",
        "params = {\n",
        "    \"q\": param_item,\n",
        "    \"limit\": 50\n",
        "  }\n",
        "\n",
        "site = \"MLA\" # posibilita cambio de site\n",
        "\n",
        "endpoint_meli = \"/sites/\" + str(site) + \"/search\" # recreo el ejemplo para ver la informacion de la API\n",
        "\n",
        "json_data = get_data(base_url, endpoint_meli, params=params, expected_field=\"results\") # llamo a funcion para traer los datos de la API en formato JSON\n",
        "\n",
        "# funciones utilizadas para explorar los datos\n",
        "\"\"\"\n",
        "df_meli = build_table(json_data) # Utilizo esta funcion para pasar el Json a formato de tabla que me facilite la lectura\n",
        "df_meli.head(5) #veo como es la estructura\n",
        "\n",
        "valores_columnas = df_meli.columns.values\n",
        "valores_lista_columnas = list(valores_columnas)\n",
        "print(valores_lista_columnas) # Obtengo un listado de los atributos del Json\n",
        "\"\"\""
      ],
      "metadata": {
        "colab": {
          "base_uri": "https://localhost:8080/",
          "height": 91
        },
        "id": "yv9wK8ghohQh",
        "outputId": "c52e28b5-16d1-4234-a45e-de3c6650be72"
      },
      "execution_count": 73,
      "outputs": [
        {
          "output_type": "stream",
          "name": "stdout",
          "text": [
            "['id', 'title', 'condition', 'thumbnail_id', 'catalog_product_id', 'listing_type_id', 'sanitized_title', 'permalink', 'buying_mode', 'site_id', 'category_id', 'domain_id', 'thumbnail', 'currency_id', 'order_backend', 'price', 'original_price', 'available_quantity', 'official_store_id', 'official_store_name', 'use_thumbnail_id', 'accepts_mercadopago', 'stop_time', 'attributes', 'winner_item_id', 'catalog_listing', 'discounts', 'promotion_decorations', 'promotions', 'inventory_id', 'sale_price.price_id', 'sale_price.amount', 'sale_price.conditions.eligible', 'sale_price.conditions.context_restrictions', 'sale_price.conditions.start_time', 'sale_price.conditions.end_time', 'sale_price.currency_id', 'sale_price.exchange_rate', 'sale_price.payment_method_prices', 'sale_price.payment_method_type', 'sale_price.regular_amount', 'sale_price.type', 'sale_price.metadata.promotion_id', 'sale_price.metadata.promotion_type', 'shipping.store_pick_up', 'shipping.free_shipping', 'shipping.logistic_type', 'shipping.mode', 'shipping.tags', 'shipping.benefits', 'shipping.promise', 'shipping.shipping_score', 'seller.id', 'seller.nickname', 'address.state_id', 'address.state_name', 'address.city_id', 'address.city_name', 'installments.quantity', 'installments.amount', 'installments.rate', 'installments.currency_id', 'installments.metadata.meliplus_installments', 'installments.metadata.additional_bank_interest', 'sale_price.metadata.experiment_id', 'sale_price.metadata.funding_mode', 'sale_price.metadata.discount_meli_amount', 'sale_price.metadata.campaign_end_date', 'sale_price.metadata.campaign_id', 'sale_price.metadata.order_item_price', 'sale_price.metadata.variation', 'sale_price.metadata.campaign_discount_percentage', 'variation_id', 'variation_filters', 'variations_data.182251616245.thumbnail', 'variations_data.182251616245.ratio', 'variations_data.182251616245.name', 'variations_data.182251616245.pictures_qty', 'variations_data.182251616245.price', 'variations_data.182251616245.user_product_id', 'variations_data.182251616245.attributes', 'variations_data.182251616245.attribute_combinations', 'variations_data.186478939951.thumbnail', 'variations_data.186478939951.ratio', 'variations_data.186478939951.name', 'variations_data.186478939951.pictures_qty', 'variations_data.186478939951.price', 'variations_data.186478939951.attributes', 'variations_data.186478939951.attribute_combinations', 'variations_data.181295031685.thumbnail', 'variations_data.181295031685.ratio', 'variations_data.181295031685.name', 'variations_data.181295031685.pictures_qty', 'variations_data.181295031685.price', 'variations_data.181295031685.inventory_id', 'variations_data.181295031685.user_product_id', 'variations_data.181295031685.attributes', 'variations_data.181295031685.attribute_combinations', 'variations_data.181295027023.thumbnail', 'variations_data.181295027023.ratio', 'variations_data.181295027023.name', 'variations_data.181295027023.pictures_qty', 'variations_data.181295027023.price', 'variations_data.181295027023.user_product_id', 'variations_data.181295027023.attributes', 'variations_data.181295027023.attribute_combinations', 'variations_data.182753778073.thumbnail', 'variations_data.182753778073.ratio', 'variations_data.182753778073.name', 'variations_data.182753778073.pictures_qty', 'variations_data.182753778073.price', 'variations_data.182753778073.user_product_id', 'variations_data.182753778073.attributes', 'variations_data.182753778073.attribute_combinations', 'variations_data.182093497656.thumbnail', 'variations_data.182093497656.ratio', 'variations_data.182093497656.name', 'variations_data.182093497656.pictures_qty', 'variations_data.182093497656.price', 'variations_data.182093497656.user_product_id', 'variations_data.182093497656.attributes', 'variations_data.182093497656.attribute_combinations', 'variations_data.178977250807.thumbnail', 'variations_data.178977250807.ratio', 'variations_data.178977250807.name', 'variations_data.178977250807.pictures_qty', 'variations_data.178977250807.price', 'variations_data.178977250807.user_product_id', 'variations_data.178977250807.attributes', 'variations_data.178977250807.attribute_combinations', 'variations_data.182774462790.thumbnail', 'variations_data.182774462790.ratio', 'variations_data.182774462790.name', 'variations_data.182774462790.pictures_qty', 'variations_data.182774462790.price', 'variations_data.182774462790.user_product_id', 'variations_data.182774462790.attributes', 'variations_data.182774462790.attribute_combinations', 'variations_data.181592889608.thumbnail', 'variations_data.181592889608.ratio', 'variations_data.181592889608.name', 'variations_data.181592889608.pictures_qty', 'variations_data.181592889608.price', 'variations_data.181592889608.user_product_id', 'variations_data.181592889608.attributes', 'variations_data.181592889608.attribute_combinations', 'variations_data.178908074952.thumbnail', 'variations_data.178908074952.ratio', 'variations_data.178908074952.name', 'variations_data.178908074952.pictures_qty', 'variations_data.178908074952.price', 'variations_data.178908074952.user_product_id', 'variations_data.178908074952.attributes', 'variations_data.178908074952.attribute_combinations', 'variations_data.182796104622.thumbnail', 'variations_data.182796104622.ratio', 'variations_data.182796104622.name', 'variations_data.182796104622.pictures_qty', 'variations_data.182796104622.price', 'variations_data.182796104622.user_product_id', 'variations_data.182796104622.attributes', 'variations_data.182796104622.attribute_combinations', 'variations_data.186537749555.thumbnail', 'variations_data.186537749555.ratio', 'variations_data.186537749555.name', 'variations_data.186537749555.pictures_qty', 'variations_data.186537749555.price', 'variations_data.186537749555.user_product_id', 'variations_data.186537749555.attributes', 'variations_data.186537749555.attribute_combinations', 'variations_data.182373369918.thumbnail', 'variations_data.182373369918.ratio', 'variations_data.182373369918.name', 'variations_data.182373369918.pictures_qty', 'variations_data.182373369918.price', 'variations_data.182373369918.user_product_id', 'variations_data.182373369918.attributes', 'variations_data.182373369918.attribute_combinations', 'variations_data.185576061171.thumbnail', 'variations_data.185576061171.ratio', 'variations_data.185576061171.name', 'variations_data.185576061171.pictures_qty', 'variations_data.185576061171.price', 'variations_data.185576061171.user_product_id', 'variations_data.185576061171.attributes', 'variations_data.185576061171.attribute_combinations', 'variations_data.185575665699.thumbnail', 'variations_data.185575665699.ratio', 'variations_data.185575665699.name', 'variations_data.185575665699.pictures_qty', 'variations_data.185575665699.price', 'variations_data.185575665699.user_product_id', 'variations_data.185575665699.attributes', 'variations_data.185575665699.attribute_combinations', 'variations_data.186211045895.thumbnail', 'variations_data.186211045895.ratio', 'variations_data.186211045895.name', 'variations_data.186211045895.pictures_qty', 'variations_data.186211045895.price', 'variations_data.186211045895.user_product_id', 'variations_data.186211045895.attributes', 'variations_data.186211045895.attribute_combinations', 'variations_data.186630069197.thumbnail', 'variations_data.186630069197.ratio', 'variations_data.186630069197.name', 'variations_data.186630069197.pictures_qty', 'variations_data.186630069197.price', 'variations_data.186630069197.user_product_id', 'variations_data.186630069197.attributes', 'variations_data.186630069197.attribute_combinations', 'variations_data.181283302946.thumbnail', 'variations_data.181283302946.ratio', 'variations_data.181283302946.name', 'variations_data.181283302946.pictures_qty', 'variations_data.181283302946.price', 'variations_data.181283302946.user_product_id', 'variations_data.181283302946.attributes', 'variations_data.181283302946.attribute_combinations', 'variations_data.176389571836.thumbnail', 'variations_data.176389571836.ratio', 'variations_data.176389571836.name', 'variations_data.176389571836.pictures_qty', 'variations_data.176389571836.price', 'variations_data.176389571836.user_product_id', 'variations_data.176389571836.attributes', 'variations_data.176389571836.attribute_combinations', 'variations_data.182349827288.thumbnail', 'variations_data.182349827288.ratio', 'variations_data.182349827288.name', 'variations_data.182349827288.pictures_qty', 'variations_data.182349827288.price', 'variations_data.182349827288.user_product_id', 'variations_data.182349827288.attributes', 'variations_data.182349827288.attribute_combinations', 'variations_data.180549687554.thumbnail', 'variations_data.180549687554.ratio', 'variations_data.180549687554.name', 'variations_data.180549687554.pictures_qty', 'variations_data.180549687554.price', 'variations_data.180549687554.user_product_id', 'variations_data.180549687554.attributes', 'variations_data.180549687554.attribute_combinations', 'variations_data.177471652672.thumbnail', 'variations_data.177471652672.ratio', 'variations_data.177471652672.name', 'variations_data.177471652672.pictures_qty', 'variations_data.177471652672.price', 'variations_data.177471652672.user_product_id', 'variations_data.177471652672.attributes', 'variations_data.177471652672.attribute_combinations', 'variations_data.186653674387.thumbnail', 'variations_data.186653674387.ratio', 'variations_data.186653674387.name', 'variations_data.186653674387.pictures_qty', 'variations_data.186653674387.price', 'variations_data.186653674387.user_product_id', 'variations_data.186653674387.attributes', 'variations_data.186653674387.attribute_combinations', 'variations_data.181505856862.thumbnail', 'variations_data.181505856862.ratio', 'variations_data.181505856862.name', 'variations_data.181505856862.pictures_qty', 'variations_data.181505856862.price', 'variations_data.181505856862.user_product_id', 'variations_data.181505856862.attributes', 'variations_data.181505856862.attribute_combinations', 'variations_data.186772181531.thumbnail', 'variations_data.186772181531.ratio', 'variations_data.186772181531.name', 'variations_data.186772181531.pictures_qty', 'variations_data.186772181531.price', 'variations_data.186772181531.user_product_id', 'variations_data.186772181531.attributes', 'variations_data.186772181531.attribute_combinations', 'variations_data.180458074236.thumbnail', 'variations_data.180458074236.ratio', 'variations_data.180458074236.name', 'variations_data.180458074236.pictures_qty', 'variations_data.180458074236.price', 'variations_data.180458074236.user_product_id', 'variations_data.180458074236.attributes', 'variations_data.180458074236.attribute_combinations', 'variations_data.182193954834.thumbnail', 'variations_data.182193954834.ratio', 'variations_data.182193954834.name', 'variations_data.182193954834.pictures_qty', 'variations_data.182193954834.price', 'variations_data.182193954834.user_product_id', 'variations_data.182193954834.attributes', 'variations_data.182193954834.attribute_combinations', 'variations_data.182296485248.thumbnail', 'variations_data.182296485248.ratio', 'variations_data.182296485248.name', 'variations_data.182296485248.pictures_qty', 'variations_data.182296485248.price', 'variations_data.182296485248.user_product_id', 'variations_data.182296485248.attributes', 'variations_data.182296485248.attribute_combinations', 'variations_data.182822032156.thumbnail', 'variations_data.182822032156.ratio', 'variations_data.182822032156.name', 'variations_data.182822032156.pictures_qty', 'variations_data.182822032156.price', 'variations_data.182822032156.user_product_id', 'variations_data.182822032156.attributes', 'variations_data.182822032156.attribute_combinations', 'variations_data.182822032158.thumbnail', 'variations_data.182822032158.ratio', 'variations_data.182822032158.name', 'variations_data.182822032158.pictures_qty', 'variations_data.182822032158.price', 'variations_data.182822032158.user_product_id', 'variations_data.182822032158.attributes', 'variations_data.182822032158.attribute_combinations', 'variations_data.186824210065.thumbnail', 'variations_data.186824210065.ratio', 'variations_data.186824210065.name', 'variations_data.186824210065.pictures_qty', 'variations_data.186824210065.price', 'variations_data.186824210065.user_product_id', 'variations_data.186824210065.attributes', 'variations_data.186824210065.attribute_combinations', 'variations_data.184148869145.thumbnail', 'variations_data.184148869145.ratio', 'variations_data.184148869145.name', 'variations_data.184148869145.pictures_qty', 'variations_data.184148869145.price', 'variations_data.184148869145.user_product_id', 'variations_data.184148869145.attributes', 'variations_data.184148869145.attribute_combinations', 'variations_data.184710816785.thumbnail', 'variations_data.184710816785.ratio', 'variations_data.184710816785.name', 'variations_data.184710816785.pictures_qty', 'variations_data.184710816785.price', 'variations_data.184710816785.user_product_id', 'variations_data.184710816785.attributes', 'variations_data.184710816785.attribute_combinations', 'variations_data.182822106088.thumbnail', 'variations_data.182822106088.ratio', 'variations_data.182822106088.name', 'variations_data.182822106088.pictures_qty', 'variations_data.182822106088.price', 'variations_data.182822106088.user_product_id', 'variations_data.182822106088.attributes', 'variations_data.182822106088.attribute_combinations', 'variations_data.181380959230.thumbnail', 'variations_data.181380959230.ratio', 'variations_data.181380959230.name', 'variations_data.181380959230.pictures_qty', 'variations_data.181380959230.price', 'variations_data.181380959230.user_product_id', 'variations_data.181380959230.attributes', 'variations_data.181380959230.attribute_combinations', 'variations_data.182439224402.thumbnail', 'variations_data.182439224402.ratio', 'variations_data.182439224402.name', 'variations_data.182439224402.pictures_qty', 'variations_data.182439224402.price', 'variations_data.182439224402.user_product_id', 'variations_data.182439224402.attributes', 'variations_data.182439224402.attribute_combinations', 'variations_data.182217932684.thumbnail', 'variations_data.182217932684.ratio', 'variations_data.182217932684.name', 'variations_data.182217932684.pictures_qty', 'variations_data.182217932684.price', 'variations_data.182217932684.user_product_id', 'variations_data.182217932684.attributes', 'variations_data.182217932684.attribute_combinations', 'variations_data.183994379803.thumbnail', 'variations_data.183994379803.ratio', 'variations_data.183994379803.name', 'variations_data.183994379803.pictures_qty', 'variations_data.183994379803.price', 'variations_data.183994379803.user_product_id', 'variations_data.183994379803.attributes', 'variations_data.183994379803.attribute_combinations', 'variations_data.186643032643.thumbnail', 'variations_data.186643032643.ratio', 'variations_data.186643032643.name', 'variations_data.186643032643.pictures_qty', 'variations_data.186643032643.price', 'variations_data.186643032643.user_product_id', 'variations_data.186643032643.attributes', 'variations_data.186643032643.attribute_combinations', 'variations_data.186747976267.thumbnail', 'variations_data.186747976267.ratio', 'variations_data.186747976267.name', 'variations_data.186747976267.pictures_qty', 'variations_data.186747976267.price', 'variations_data.186747976267.user_product_id', 'variations_data.186747976267.attributes', 'variations_data.186747976267.attribute_combinations', 'variations_data.186285129459.thumbnail', 'variations_data.186285129459.ratio', 'variations_data.186285129459.name', 'variations_data.186285129459.pictures_qty', 'variations_data.186285129459.price', 'variations_data.186285129459.user_product_id', 'variations_data.186285129459.attributes', 'variations_data.186285129459.attribute_combinations', 'variations_data.181707902306.thumbnail', 'variations_data.181707902306.ratio', 'variations_data.181707902306.name', 'variations_data.181707902306.pictures_qty', 'variations_data.181707902306.price', 'variations_data.181707902306.user_product_id', 'variations_data.181707902306.attributes', 'variations_data.181707902306.attribute_combinations', 'variations_data.181859121394.thumbnail', 'variations_data.181859121394.ratio', 'variations_data.181859121394.name', 'variations_data.181859121394.pictures_qty', 'variations_data.181859121394.price', 'variations_data.181859121394.user_product_id', 'variations_data.181859121394.attributes', 'variations_data.181859121394.attribute_combinations', 'variations_data.184683897465.thumbnail', 'variations_data.184683897465.ratio', 'variations_data.184683897465.name', 'variations_data.184683897465.pictures_qty', 'variations_data.184683897465.price', 'variations_data.184683897465.user_product_id', 'variations_data.184683897465.attributes', 'variations_data.184683897465.attribute_combinations', 'variations_data.184498023837.thumbnail', 'variations_data.184498023837.ratio', 'variations_data.184498023837.name', 'variations_data.184498023837.pictures_qty', 'variations_data.184498023837.price', 'variations_data.184498023837.user_product_id', 'variations_data.184498023837.attributes', 'variations_data.184498023837.attribute_combinations']\n"
          ]
        },
        {
          "output_type": "execute_result",
          "data": {
            "text/plain": [
              "'\\n#df_meli.head(5) #veo como es la estructura\\n\\nvalores_columnas = df_meli.columns.values\\nvalores_lista_columnas = list(valores_columnas)\\nprint(valores_lista_columnas) # Obtengo un listado de los atributos del Json\\n'"
            ],
            "application/vnd.google.colaboratory.intrinsic+json": {
              "type": "string"
            }
          },
          "metadata": {},
          "execution_count": 73
        }
      ]
    },
    {
      "cell_type": "markdown",
      "source": [
        "Prueba para obtener los Id de los item"
      ],
      "metadata": {
        "id": "rapNK2avcnEr"
      }
    },
    {
      "cell_type": "code",
      "source": [
        "# Ver los primeros IDs de productos\n",
        "item_ids = [item[\"id\"] for item in json_data]\n",
        "print(item_ids[:10])  # Mostrar los primeros 10"
      ],
      "metadata": {
        "colab": {
          "base_uri": "https://localhost:8080/"
        },
        "id": "IZnlISfNYirm",
        "outputId": "1a765200-d267-49e5-e45c-7bd9259a083e"
      },
      "execution_count": 74,
      "outputs": [
        {
          "output_type": "stream",
          "name": "stdout",
          "text": [
            "['MLA1473995491', 'MLA1449403463', 'MLA1366426083', 'MLA1555284784', 'MLA1399215546', 'MLA1719499042', 'MLA1981233514', 'MLA1453365954', 'MLA1618134842', 'MLA1594852796']\n"
          ]
        }
      ]
    },
    {
      "cell_type": "markdown",
      "source": [
        "### Barrido de todos los item_id"
      ],
      "metadata": {
        "id": "mClc00PMtJXy"
      }
    },
    {
      "cell_type": "code",
      "source": [
        "all_item_ids = [] # Lista para guardar los item ids\n",
        "for offset in range(0, 200, 50):  # 4 llamadas: 0, 50, 100, 150\n",
        "    url = f\"https://api.mercadolibre.com/sites/MLA/search?q={param_item}&limit=50&offset={offset}\"\n",
        "    response = requests.get(url)\n",
        "    data = response.json()\n",
        "    all_item_ids.extend([item[\"id\"] for item in json_data])\n",
        "\n",
        "print(len(all_item_ids))  # Debería ser más de 150 y 200 como maximo"
      ],
      "metadata": {
        "colab": {
          "base_uri": "https://localhost:8080/"
        },
        "id": "VjeyXlWnZ61R",
        "outputId": "3c29e271-6d1e-459e-d989-f5aa3e2f3a28"
      },
      "execution_count": 75,
      "outputs": [
        {
          "output_type": "stream",
          "name": "stdout",
          "text": [
            "200\n"
          ]
        }
      ]
    },
    {
      "cell_type": "markdown",
      "source": [
        "### Obtengo la informacion de cada Item"
      ],
      "metadata": {
        "id": "igwMIVIQtI06"
      }
    },
    {
      "cell_type": "markdown",
      "source": [
        "Prueba para obtenerel detalle de los items"
      ],
      "metadata": {
        "id": "Aq9UWrEnLR02"
      }
    },
    {
      "cell_type": "code",
      "source": [
        "base_url_items = \"https://api.mercadolibre.com/items\"\n",
        "\n",
        "for item_id in item_ids[:5]:  # Solo tomamos los primeros 5 para probar\n",
        "    item_data = get_data(base_url_items, item_id)\n",
        "    if item_data:\n",
        "        print(f\"Producto: {item_data['title']}, Precio: {item_data['price']}\")\n",
        "    else:\n",
        "        print(f\"Error al obtener el item {item_id}\")"
      ],
      "metadata": {
        "colab": {
          "base_uri": "https://localhost:8080/"
        },
        "id": "0AcIJUmlKK4k",
        "outputId": "3bc78964-602a-4505-fc93-b830cca461cc"
      },
      "execution_count": 76,
      "outputs": [
        {
          "output_type": "stream",
          "name": "stdout",
          "text": [
            "Producto: Apple Tv 4k (wifi + Ethernet) A2843 De Voz 3.ª Generación 2022 4k 128gb Negro - Distribuidor Autorizado, Precio: 499999\n",
            "Producto: Apple Tv Hd A1625 De Voz 4.ª Generación 2015 Full Hd 32gb Negro Con 2gb De Memoria Ram, Precio: 599990\n",
            "Producto: Apple Tv 4k (wifi) A2737 De Voz 3.ª Generación 2022 4k 64gb Negro - Distribuidor Autorizado, Precio: 405399\n",
            "Producto: Apple Tv 4k (wifi + Ethernet) A2843 De Voz 3.ª Generación 2022 4k 128gb Negro, Precio: 404250\n",
            "Producto: Apple Tv 4k (wifi) A2737 De Voz 3.ª Generación 2022 4k 64gb Negro, Precio: 477099\n"
          ]
        }
      ]
    },
    {
      "cell_type": "markdown",
      "source": [
        "Completo lista con la informacion de los items"
      ],
      "metadata": {
        "id": "Azkf_IYQLcm6"
      }
    },
    {
      "cell_type": "code",
      "source": [
        "items_data = [] # Lista con la informacion de cada item\n",
        "\n",
        "# Obtener detalles de cada ítem\n",
        "for item_id in all_item_ids:\n",
        "    item = get_data(base_url_items, item_id)\n",
        "    items_data.append({\n",
        "        \"id\": item[\"id\"],\n",
        "        \"producto\": item[\"title\"],\n",
        "        \"precio\": item[\"price\"],\n",
        "        \"site\": item[\"site_id\"],\n",
        "        \"seller_id\": item[\"seller_id\"]\n",
        "    })\n",
        "\n",
        "    time.sleep(0.2)  # Pequeña pausa para no saturar la API\n",
        "\n",
        "# Ver los primeros 5 ítems obtenidos\n",
        "print(items_data[:5])"
      ],
      "metadata": {
        "colab": {
          "base_uri": "https://localhost:8080/"
        },
        "id": "STdwhtZKuV51",
        "outputId": "3edc6c83-392a-45d8-ffc9-39425650bd6a"
      },
      "execution_count": 77,
      "outputs": [
        {
          "output_type": "stream",
          "name": "stdout",
          "text": [
            "[{'id': 'MLA1473995491', 'producto': 'Apple Tv 4k (wifi + Ethernet) A2843 De Voz 3.ª Generación 2022 4k 128gb Negro - Distribuidor Autorizado', 'precio': 499999, 'site': 'MLA', 'seller_id': 195832229}, {'id': 'MLA1449403463', 'producto': 'Apple Tv Hd A1625 De Voz 4.ª Generación 2015 Full Hd 32gb Negro Con 2gb De Memoria Ram', 'precio': 599990, 'site': 'MLA', 'seller_id': 119914491}, {'id': 'MLA1366426083', 'producto': 'Apple Tv 4k (wifi) A2737 De Voz 3.ª Generación 2022 4k 64gb Negro - Distribuidor Autorizado', 'precio': 405399, 'site': 'MLA', 'seller_id': 553476757}, {'id': 'MLA1555284784', 'producto': 'Apple Tv 4k (wifi + Ethernet) A2843 De Voz 3.ª Generación 2022 4k 128gb Negro', 'precio': 404250, 'site': 'MLA', 'seller_id': 1340767106}, {'id': 'MLA1399215546', 'producto': 'Apple Tv 4k (wifi) A2737 De Voz 3.ª Generación 2022 4k 64gb Negro', 'precio': 477099, 'site': 'MLA', 'seller_id': 208137579}]\n"
          ]
        }
      ]
    },
    {
      "cell_type": "markdown",
      "source": [
        "### Guardamos CSV para item seleccionado"
      ],
      "metadata": {
        "id": "KNfWEErWLkFN"
      }
    },
    {
      "cell_type": "code",
      "source": [
        "import pandas as pd\n",
        "\n",
        "# Convertir a DataFrame\n",
        "df = pd.DataFrame(items_data)\n",
        "\n",
        "# Guardar en CSV\n",
        "\n",
        "nombre_archivo = \"meli_items_\" + str(param_item) + \".csv\" # el path del archivo contiende el nombre del item filtrado previamente\n",
        "df.to_csv(nombre_archivo, index=False, sep=\";\")\n",
        "\n",
        "print(\"Archivo CSV generado exitosamente.\")"
      ],
      "metadata": {
        "colab": {
          "base_uri": "https://localhost:8080/"
        },
        "id": "lIxIjkWhyMTQ",
        "outputId": "35da5a18-7bf6-47e3-95b6-4c7cd1e9226b"
      },
      "execution_count": 78,
      "outputs": [
        {
          "output_type": "stream",
          "name": "stdout",
          "text": [
            "Archivo CSV generado exitosamente.\n"
          ]
        }
      ]
    }
  ]
}